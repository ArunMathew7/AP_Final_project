{
 "cells": [
  {
   "cell_type": "markdown",
   "metadata": {},
   "source": [
    "# DAV 5400 Final Project Proposal\n",
    "### Team members: Arun Mathew, Nikki Rastogi, Aquib Hussain"
   ]
  },
  {
   "cell_type": "markdown",
   "metadata": {},
   "source": [
    "## Introduction\n",
    "\"Exploring the World of Books and Reviews\":\n",
    "\n",
    "In a world filled with endless literary choices, it can be challenging to find the next great read. This data project, \"Exploring the World of Books and Reviews,\" is a journey into the vast realm of literature, designed to help book enthusiasts, researchers, and readers discover new insights and trends within the literary landscape.\n",
    "\n",
    "Our dataset contains a wealth of information, encompassing a wide range of books, each a unique treasure waiting to be explored. It includes crucial details such as book IDs, authors, original publication years, titles, average ratings, and extensive user reviews. With this data at our fingertips, we are poised to uncover intriguing patterns, preferences, and trends that shape the world of literature.\n",
    "\n",
    "Throughout this project, we will delve into the role of authors, original publication years, and ratings in influencing a book's reception. We will explore how average ratings and user reviews contribute to a book's reputation and popularity. Whether you're an avid reader seeking new recommendations, a data enthusiast fascinated by book analytics, or an author looking to understand what makes a bestseller, this project offers a unique and data-driven perspective on the world of books and reviews. Join us on this literary journey, and let's explore the stories hidden within the data.\n"
   ]
  },
  {
   "cell_type": "markdown",
   "metadata": {},
   "source": [
    "## Research Questions\n",
    "* Can we develop a book recommendation system based on the book details such as title, author, publication year and rating?\n",
    "\n",
    "* Which Authors have published the most books over years?\n",
    "\n",
    "* Are there any patterns in user ratings depending on authors, with a focus on ratings 1, 2, 3, 4, and 5?"
   ]
  },
  {
   "cell_type": "markdown",
   "metadata": {},
   "source": [
    "## Data to be Used\n",
    "\n",
    "* 1.Data from this source will be collected in a csv file\n",
    "* Book Details - https://data.world/divyanshj/users-books-dataset/workspace/file?filename=BX-Books.csv\n",
    "\n",
    "* 2.Data from this source will be collected using Web Scraping\n",
    "* Book Ratings - https://www.goodreads.com/"
   ]
  },
  {
   "cell_type": "markdown",
   "metadata": {},
   "source": [
    "## Approach\n",
    "* <b>Data Understanding and Exploration</b>\n",
    "\n",
    "    Start by understanding the structure of your dataset. Look at the column names, data types, and the first few rows of data.\n",
    "    Identify any missing values and outliers, as they may impact your analysis.\n",
    "    Check for duplicate records, and if present, decide whether to remove or keep them.\n",
    "\n",
    "* <b>Data Cleaning</b> \n",
    "\n",
    "    Handle missing data: Decide how to deal with missing values in different columns. You can either remove rows with missing data or impute them.\n",
    "    Data type conversion: Ensure that the data types of each column are appropriate for the analysis. For instance, convert numeric columns to the appropriate numeric data types.\n",
    "    Remove duplicates: If there are duplicate records, decide whether to keep the first occurrence or drop duplicates.\n",
    "\n",
    "* <b>Exploratory Data Analysis (EDA)</b>\n",
    "\n",
    "    Conduct basic descriptive statistics to summarize the data, including measures of central tendency, dispersion, and data distributions.\n",
    "    Create visualizations such as histograms, box plots, and scatter plots to gain insights into the data.\n",
    "    Explore the relationships between variables. For example, you can look at how \"average_rating\" relates to other factors like \"original_publication_year\" or \"language_code.\"\n",
    "\n",
    "* <b>Data Visualization</b>\n",
    "\n",
    "    Create visualizations to illustrate patterns and insights discovered in the EDA.\n",
    "    For example, create a histogram or density plot of \"average_rating\" to visualize its distribution."
   ]
  }
 ],
 "metadata": {
  "kernelspec": {
   "display_name": "Python 3 (ipykernel)",
   "language": "python",
   "name": "python3"
  },
  "language_info": {
   "codemirror_mode": {
    "name": "ipython",
    "version": 3
   },
   "file_extension": ".py",
   "mimetype": "text/x-python",
   "name": "python",
   "nbconvert_exporter": "python",
   "pygments_lexer": "ipython3",
   "version": "3.11.5"
  }
 },
 "nbformat": 4,
 "nbformat_minor": 4
}
